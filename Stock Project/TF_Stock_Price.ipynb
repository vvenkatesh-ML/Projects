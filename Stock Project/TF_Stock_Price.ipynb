{
 "cells": [
  {
   "cell_type": "code",
   "execution_count": 2,
   "metadata": {},
   "outputs": [],
   "source": [
    "import numpy as np\n",
    "import matplotlib.pyplot as plt\n",
    "import pandas as pd\n",
    "from sklearn.preprocessing import StandardScaler, MinMaxScaler\n",
    "import tensorflow as tf"
   ]
  },
  {
   "cell_type": "code",
   "execution_count": 65,
   "metadata": {},
   "outputs": [
    {
     "data": {
      "text/html": [
       "<div>\n",
       "<style scoped>\n",
       "    .dataframe tbody tr th:only-of-type {\n",
       "        vertical-align: middle;\n",
       "    }\n",
       "\n",
       "    .dataframe tbody tr th {\n",
       "        vertical-align: top;\n",
       "    }\n",
       "\n",
       "    .dataframe thead th {\n",
       "        text-align: right;\n",
       "    }\n",
       "</style>\n",
       "<table border=\"1\" class=\"dataframe\">\n",
       "  <thead>\n",
       "    <tr style=\"text-align: right;\">\n",
       "      <th></th>\n",
       "      <th>Date</th>\n",
       "      <th>Open</th>\n",
       "      <th>High</th>\n",
       "      <th>Low</th>\n",
       "      <th>Close</th>\n",
       "      <th>Adj Close</th>\n",
       "      <th>Volume</th>\n",
       "    </tr>\n",
       "  </thead>\n",
       "  <tbody>\n",
       "    <tr>\n",
       "      <td>0</td>\n",
       "      <td>2013-08-09</td>\n",
       "      <td>10.00</td>\n",
       "      <td>10.00</td>\n",
       "      <td>9.95</td>\n",
       "      <td>9.98</td>\n",
       "      <td>5.959726</td>\n",
       "      <td>2179000</td>\n",
       "    </tr>\n",
       "    <tr>\n",
       "      <td>1</td>\n",
       "      <td>2013-08-12</td>\n",
       "      <td>10.00</td>\n",
       "      <td>10.00</td>\n",
       "      <td>9.95</td>\n",
       "      <td>9.96</td>\n",
       "      <td>5.947781</td>\n",
       "      <td>300000</td>\n",
       "    </tr>\n",
       "    <tr>\n",
       "      <td>2</td>\n",
       "      <td>2013-08-13</td>\n",
       "      <td>9.97</td>\n",
       "      <td>9.97</td>\n",
       "      <td>9.93</td>\n",
       "      <td>9.93</td>\n",
       "      <td>5.929870</td>\n",
       "      <td>270700</td>\n",
       "    </tr>\n",
       "    <tr>\n",
       "      <td>3</td>\n",
       "      <td>2013-08-14</td>\n",
       "      <td>9.95</td>\n",
       "      <td>10.00</td>\n",
       "      <td>9.88</td>\n",
       "      <td>9.99</td>\n",
       "      <td>5.965699</td>\n",
       "      <td>365200</td>\n",
       "    </tr>\n",
       "    <tr>\n",
       "      <td>4</td>\n",
       "      <td>2013-08-15</td>\n",
       "      <td>9.99</td>\n",
       "      <td>10.00</td>\n",
       "      <td>9.97</td>\n",
       "      <td>10.00</td>\n",
       "      <td>5.971668</td>\n",
       "      <td>56200</td>\n",
       "    </tr>\n",
       "    <tr>\n",
       "      <td>...</td>\n",
       "      <td>...</td>\n",
       "      <td>...</td>\n",
       "      <td>...</td>\n",
       "      <td>...</td>\n",
       "      <td>...</td>\n",
       "      <td>...</td>\n",
       "      <td>...</td>\n",
       "    </tr>\n",
       "    <tr>\n",
       "      <td>1694</td>\n",
       "      <td>2020-05-11</td>\n",
       "      <td>14.99</td>\n",
       "      <td>15.12</td>\n",
       "      <td>14.81</td>\n",
       "      <td>15.12</td>\n",
       "      <td>15.037871</td>\n",
       "      <td>540700</td>\n",
       "    </tr>\n",
       "    <tr>\n",
       "      <td>1695</td>\n",
       "      <td>2020-05-12</td>\n",
       "      <td>15.15</td>\n",
       "      <td>15.50</td>\n",
       "      <td>14.97</td>\n",
       "      <td>15.08</td>\n",
       "      <td>14.998089</td>\n",
       "      <td>785300</td>\n",
       "    </tr>\n",
       "    <tr>\n",
       "      <td>1696</td>\n",
       "      <td>2020-05-13</td>\n",
       "      <td>14.86</td>\n",
       "      <td>15.06</td>\n",
       "      <td>14.30</td>\n",
       "      <td>14.36</td>\n",
       "      <td>14.282000</td>\n",
       "      <td>867800</td>\n",
       "    </tr>\n",
       "    <tr>\n",
       "      <td>1697</td>\n",
       "      <td>2020-05-14</td>\n",
       "      <td>14.15</td>\n",
       "      <td>14.28</td>\n",
       "      <td>13.59</td>\n",
       "      <td>14.20</td>\n",
       "      <td>14.200000</td>\n",
       "      <td>653500</td>\n",
       "    </tr>\n",
       "    <tr>\n",
       "      <td>1698</td>\n",
       "      <td>2020-05-15</td>\n",
       "      <td>14.04</td>\n",
       "      <td>14.11</td>\n",
       "      <td>13.76</td>\n",
       "      <td>13.85</td>\n",
       "      <td>13.850000</td>\n",
       "      <td>463900</td>\n",
       "    </tr>\n",
       "  </tbody>\n",
       "</table>\n",
       "<p>1699 rows × 7 columns</p>\n",
       "</div>"
      ],
      "text/plain": [
       "            Date   Open   High    Low  Close  Adj Close   Volume\n",
       "0     2013-08-09  10.00  10.00   9.95   9.98   5.959726  2179000\n",
       "1     2013-08-12  10.00  10.00   9.95   9.96   5.947781   300000\n",
       "2     2013-08-13   9.97   9.97   9.93   9.93   5.929870   270700\n",
       "3     2013-08-14   9.95  10.00   9.88   9.99   5.965699   365200\n",
       "4     2013-08-15   9.99  10.00   9.97  10.00   5.971668    56200\n",
       "...          ...    ...    ...    ...    ...        ...      ...\n",
       "1694  2020-05-11  14.99  15.12  14.81  15.12  15.037871   540700\n",
       "1695  2020-05-12  15.15  15.50  14.97  15.08  14.998089   785300\n",
       "1696  2020-05-13  14.86  15.06  14.30  14.36  14.282000   867800\n",
       "1697  2020-05-14  14.15  14.28  13.59  14.20  14.200000   653500\n",
       "1698  2020-05-15  14.04  14.11  13.76  13.85  13.850000   463900\n",
       "\n",
       "[1699 rows x 7 columns]"
      ]
     },
     "execution_count": 65,
     "metadata": {},
     "output_type": "execute_result"
    }
   ],
   "source": [
    "data = pd.read_csv(\"RNW.TO.csv\", date_parser = True)\n",
    "data"
   ]
  },
  {
   "cell_type": "code",
   "execution_count": 5,
   "metadata": {},
   "outputs": [],
   "source": [
    "data_training = data[data['Date']<'2020-01-01'].copy()\n",
    "data_testing = data[data['Date']>='2020-01-01'].copy()"
   ]
  },
  {
   "cell_type": "code",
   "execution_count": 25,
   "metadata": {},
   "outputs": [
    {
     "data": {
      "text/html": [
       "<div>\n",
       "<style scoped>\n",
       "    .dataframe tbody tr th:only-of-type {\n",
       "        vertical-align: middle;\n",
       "    }\n",
       "\n",
       "    .dataframe tbody tr th {\n",
       "        vertical-align: top;\n",
       "    }\n",
       "\n",
       "    .dataframe thead th {\n",
       "        text-align: right;\n",
       "    }\n",
       "</style>\n",
       "<table border=\"1\" class=\"dataframe\">\n",
       "  <thead>\n",
       "    <tr style=\"text-align: right;\">\n",
       "      <th></th>\n",
       "      <th>Open</th>\n",
       "      <th>High</th>\n",
       "      <th>Low</th>\n",
       "      <th>Close</th>\n",
       "      <th>Volume</th>\n",
       "    </tr>\n",
       "  </thead>\n",
       "  <tbody>\n",
       "    <tr>\n",
       "      <td>0</td>\n",
       "      <td>10.00</td>\n",
       "      <td>10.00</td>\n",
       "      <td>9.95</td>\n",
       "      <td>9.98</td>\n",
       "      <td>2179000</td>\n",
       "    </tr>\n",
       "    <tr>\n",
       "      <td>1</td>\n",
       "      <td>10.00</td>\n",
       "      <td>10.00</td>\n",
       "      <td>9.95</td>\n",
       "      <td>9.96</td>\n",
       "      <td>300000</td>\n",
       "    </tr>\n",
       "    <tr>\n",
       "      <td>2</td>\n",
       "      <td>9.97</td>\n",
       "      <td>9.97</td>\n",
       "      <td>9.93</td>\n",
       "      <td>9.93</td>\n",
       "      <td>270700</td>\n",
       "    </tr>\n",
       "    <tr>\n",
       "      <td>3</td>\n",
       "      <td>9.95</td>\n",
       "      <td>10.00</td>\n",
       "      <td>9.88</td>\n",
       "      <td>9.99</td>\n",
       "      <td>365200</td>\n",
       "    </tr>\n",
       "    <tr>\n",
       "      <td>4</td>\n",
       "      <td>9.99</td>\n",
       "      <td>10.00</td>\n",
       "      <td>9.97</td>\n",
       "      <td>10.00</td>\n",
       "      <td>56200</td>\n",
       "    </tr>\n",
       "    <tr>\n",
       "      <td>...</td>\n",
       "      <td>...</td>\n",
       "      <td>...</td>\n",
       "      <td>...</td>\n",
       "      <td>...</td>\n",
       "      <td>...</td>\n",
       "    </tr>\n",
       "    <tr>\n",
       "      <td>1599</td>\n",
       "      <td>15.58</td>\n",
       "      <td>15.70</td>\n",
       "      <td>15.54</td>\n",
       "      <td>15.66</td>\n",
       "      <td>440600</td>\n",
       "    </tr>\n",
       "    <tr>\n",
       "      <td>1600</td>\n",
       "      <td>15.66</td>\n",
       "      <td>15.68</td>\n",
       "      <td>15.54</td>\n",
       "      <td>15.62</td>\n",
       "      <td>82800</td>\n",
       "    </tr>\n",
       "    <tr>\n",
       "      <td>1601</td>\n",
       "      <td>15.62</td>\n",
       "      <td>15.73</td>\n",
       "      <td>15.62</td>\n",
       "      <td>15.70</td>\n",
       "      <td>269600</td>\n",
       "    </tr>\n",
       "    <tr>\n",
       "      <td>1602</td>\n",
       "      <td>15.70</td>\n",
       "      <td>15.71</td>\n",
       "      <td>15.53</td>\n",
       "      <td>15.63</td>\n",
       "      <td>194800</td>\n",
       "    </tr>\n",
       "    <tr>\n",
       "      <td>1603</td>\n",
       "      <td>15.57</td>\n",
       "      <td>15.64</td>\n",
       "      <td>15.40</td>\n",
       "      <td>15.52</td>\n",
       "      <td>171500</td>\n",
       "    </tr>\n",
       "  </tbody>\n",
       "</table>\n",
       "<p>1604 rows × 5 columns</p>\n",
       "</div>"
      ],
      "text/plain": [
       "       Open   High    Low  Close   Volume\n",
       "0     10.00  10.00   9.95   9.98  2179000\n",
       "1     10.00  10.00   9.95   9.96   300000\n",
       "2      9.97   9.97   9.93   9.93   270700\n",
       "3      9.95  10.00   9.88   9.99   365200\n",
       "4      9.99  10.00   9.97  10.00    56200\n",
       "...     ...    ...    ...    ...      ...\n",
       "1599  15.58  15.70  15.54  15.66   440600\n",
       "1600  15.66  15.68  15.54  15.62    82800\n",
       "1601  15.62  15.73  15.62  15.70   269600\n",
       "1602  15.70  15.71  15.53  15.63   194800\n",
       "1603  15.57  15.64  15.40  15.52   171500\n",
       "\n",
       "[1604 rows x 5 columns]"
      ]
     },
     "execution_count": 25,
     "metadata": {},
     "output_type": "execute_result"
    }
   ],
   "source": [
    "training_data = data_training.drop(['Date','Adj Close'], axis =1)\n",
    "training_data #Going to be predicting the open price of the 61st day"
   ]
  },
  {
   "cell_type": "code",
   "execution_count": 21,
   "metadata": {},
   "outputs": [],
   "source": [
    "scaler = MinMaxScaler()\n",
    "training_data = scaler.fit_transform(training_data)"
   ]
  },
  {
   "cell_type": "code",
   "execution_count": 22,
   "metadata": {},
   "outputs": [],
   "source": [
    "X_train = []\n",
    "y_train = []"
   ]
  },
  {
   "cell_type": "code",
   "execution_count": 23,
   "metadata": {},
   "outputs": [],
   "source": [
    "for i in range (60, training_data.shape[0]):\n",
    "    X_train.append(training_data[i-60:i]) #0 to 60\n",
    "    y_train.append(training_data[i, 0]) #predict Open price for 60th data"
   ]
  },
  {
   "cell_type": "code",
   "execution_count": 33,
   "metadata": {},
   "outputs": [
    {
     "data": {
      "text/plain": [
       "((1544, 60, 5), (1544,))"
      ]
     },
     "execution_count": 33,
     "metadata": {},
     "output_type": "execute_result"
    }
   ],
   "source": [
    "X_train, y_train = np.array(X_train), np.array(y_train)\n",
    "X_train.shape, y_train.shape"
   ]
  },
  {
   "cell_type": "code",
   "execution_count": 34,
   "metadata": {},
   "outputs": [],
   "source": [
    "from tensorflow.keras import Sequential\n",
    "from tensorflow.keras.layers import Dense, LSTM, Dropout"
   ]
  },
  {
   "cell_type": "code",
   "execution_count": 41,
   "metadata": {},
   "outputs": [],
   "source": [
    "regressor = Sequential()\n",
    "regressor.add(LSTM(units = 50, activation = 'relu', return_sequences = True, input_shape = (X_train.shape[1],5)))\n",
    "regressor.add(Dropout(0.2))#20% of neurons will be randomly dropped\n",
    "\n",
    "regressor.add(LSTM(units = 60, activation = 'relu', return_sequences = True))\n",
    "regressor.add(Dropout(0.3)) #20% of neurons will be randomly dropped\n",
    "\n",
    "regressor.add(LSTM(units = 80, activation = 'relu', return_sequences = True))\n",
    "regressor.add(Dropout(0.4)) #30% of neurons will be randomly dropped\n",
    "\n",
    "regressor.add(LSTM(units = 120, activation = 'relu'))\n",
    "regressor.add(Dropout(0.5)) #40% of neurons will be randomly dropped\n",
    "\n",
    "regressor.add(Dense(units = 1))\n"
   ]
  },
  {
   "cell_type": "code",
   "execution_count": 42,
   "metadata": {},
   "outputs": [
    {
     "name": "stdout",
     "output_type": "stream",
     "text": [
      "Model: \"sequential_4\"\n",
      "_________________________________________________________________\n",
      "Layer (type)                 Output Shape              Param #   \n",
      "=================================================================\n",
      "lstm_8 (LSTM)                (None, 60, 50)            11200     \n",
      "_________________________________________________________________\n",
      "dropout_8 (Dropout)          (None, 60, 50)            0         \n",
      "_________________________________________________________________\n",
      "lstm_9 (LSTM)                (None, 60, 60)            26640     \n",
      "_________________________________________________________________\n",
      "dropout_9 (Dropout)          (None, 60, 60)            0         \n",
      "_________________________________________________________________\n",
      "lstm_10 (LSTM)               (None, 60, 80)            45120     \n",
      "_________________________________________________________________\n",
      "dropout_10 (Dropout)         (None, 60, 80)            0         \n",
      "_________________________________________________________________\n",
      "lstm_11 (LSTM)               (None, 120)               96480     \n",
      "_________________________________________________________________\n",
      "dropout_11 (Dropout)         (None, 120)               0         \n",
      "_________________________________________________________________\n",
      "dense_2 (Dense)              (None, 1)                 121       \n",
      "=================================================================\n",
      "Total params: 179,561\n",
      "Trainable params: 179,561\n",
      "Non-trainable params: 0\n",
      "_________________________________________________________________\n"
     ]
    }
   ],
   "source": [
    "regressor.summary()"
   ]
  },
  {
   "cell_type": "code",
   "execution_count": 43,
   "metadata": {},
   "outputs": [
    {
     "name": "stdout",
     "output_type": "stream",
     "text": [
      "Epoch 1/30\n",
      "49/49 [==============================] - 8s 162ms/step - loss: 0.0737\n",
      "Epoch 2/30\n",
      "49/49 [==============================] - 7s 134ms/step - loss: 0.0176\n",
      "Epoch 3/30\n",
      "49/49 [==============================] - 6s 128ms/step - loss: 0.0135\n",
      "Epoch 4/30\n",
      "49/49 [==============================] - 7s 140ms/step - loss: 0.0119\n",
      "Epoch 5/30\n",
      "49/49 [==============================] - 8s 158ms/step - loss: 0.0112\n",
      "Epoch 6/30\n",
      "49/49 [==============================] - 9s 192ms/step - loss: 0.0107\n",
      "Epoch 7/30\n",
      "49/49 [==============================] - 7s 150ms/step - loss: 0.0094\n",
      "Epoch 8/30\n",
      "49/49 [==============================] - 8s 164ms/step - loss: 0.0098\n",
      "Epoch 9/30\n",
      "49/49 [==============================] - 9s 180ms/step - loss: 0.0091\n",
      "Epoch 10/30\n",
      "49/49 [==============================] - 8s 162ms/step - loss: 0.0084\n",
      "Epoch 11/30\n",
      "49/49 [==============================] - 6s 132ms/step - loss: 0.0091\n",
      "Epoch 12/30\n",
      "49/49 [==============================] - 8s 155ms/step - loss: 0.0075\n",
      "Epoch 13/30\n",
      "49/49 [==============================] - 9s 186ms/step - loss: 0.0081\n",
      "Epoch 14/30\n",
      "49/49 [==============================] - 7s 145ms/step - loss: 0.0074\n",
      "Epoch 15/30\n",
      "49/49 [==============================] - 8s 158ms/step - loss: 0.0075\n",
      "Epoch 16/30\n",
      "49/49 [==============================] - 12s 241ms/step - loss: 0.0069\n",
      "Epoch 17/30\n",
      "49/49 [==============================] - 8s 154ms/step - loss: 0.0074\n",
      "Epoch 18/30\n",
      "49/49 [==============================] - 8s 160ms/step - loss: 0.0070\n",
      "Epoch 19/30\n",
      "49/49 [==============================] - 8s 162ms/step - loss: 0.0074\n",
      "Epoch 20/30\n",
      "49/49 [==============================] - 8s 159ms/step - loss: 0.0067\n",
      "Epoch 21/30\n",
      "49/49 [==============================] - 8s 164ms/step - loss: 0.0065\n",
      "Epoch 22/30\n",
      "49/49 [==============================] - 7s 136ms/step - loss: 0.0058\n",
      "Epoch 23/30\n",
      "49/49 [==============================] - 7s 144ms/step - loss: 0.0056\n",
      "Epoch 24/30\n",
      "49/49 [==============================] - 9s 189ms/step - loss: 0.0065\n",
      "Epoch 25/30\n",
      "49/49 [==============================] - 6s 128ms/step - loss: 0.0056\n",
      "Epoch 26/30\n",
      "49/49 [==============================] - 7s 151ms/step - loss: 0.0055\n",
      "Epoch 27/30\n",
      "49/49 [==============================] - 8s 162ms/step - loss: 0.0053\n",
      "Epoch 28/30\n",
      "49/49 [==============================] - 8s 157ms/step - loss: 0.0057\n",
      "Epoch 29/30\n",
      "49/49 [==============================] - 7s 139ms/step - loss: 0.0051\n",
      "Epoch 30/30\n",
      "49/49 [==============================] - 7s 147ms/step - loss: 0.0049\n"
     ]
    },
    {
     "data": {
      "text/plain": [
       "<tensorflow.python.keras.callbacks.History at 0x13fcfe210>"
      ]
     },
     "execution_count": 43,
     "metadata": {},
     "output_type": "execute_result"
    }
   ],
   "source": [
    "regressor.compile(optimizer = 'adam', loss = 'mean_squared_error')\n",
    "regressor.fit(X_train, y_train, epochs = 30, batch_size = 32)"
   ]
  },
  {
   "cell_type": "code",
   "execution_count": 45,
   "metadata": {},
   "outputs": [],
   "source": [
    "past_60_days = data_training.tail (60)\n",
    "df = past_60_days.append(data_testing, ignore_index = True)\n",
    "df = df.drop([ 'Date','Adj Close'], axis = 1)"
   ]
  },
  {
   "cell_type": "code",
   "execution_count": 47,
   "metadata": {},
   "outputs": [
    {
     "data": {
      "text/plain": [
       "(155, 5)"
      ]
     },
     "execution_count": 47,
     "metadata": {},
     "output_type": "execute_result"
    }
   ],
   "source": [
    "inputs = scaler.fit_transform(df)\n",
    "inputs.shape"
   ]
  },
  {
   "cell_type": "code",
   "execution_count": 49,
   "metadata": {},
   "outputs": [],
   "source": [
    "X_test = []\n",
    "y_test = []\n",
    "for i in range (60, inputs.shape[0]):\n",
    "    X_test.append(inputs[i-60:i])\n",
    "    y_test.append(inputs[i, 0])"
   ]
  },
  {
   "cell_type": "code",
   "execution_count": 50,
   "metadata": {},
   "outputs": [
    {
     "data": {
      "text/plain": [
       "((95, 60, 5), (95,))"
      ]
     },
     "execution_count": 50,
     "metadata": {},
     "output_type": "execute_result"
    }
   ],
   "source": [
    "X_test, y_test = np.array(X_test), np.array(y_test)\n",
    "X_test.shape, y_test.shape"
   ]
  },
  {
   "cell_type": "code",
   "execution_count": 57,
   "metadata": {},
   "outputs": [
    {
     "name": "stdout",
     "output_type": "stream",
     "text": [
      "3/3 [==============================] - 0s 26ms/step - loss: 11.6886\n"
     ]
    },
    {
     "data": {
      "text/plain": [
       "11.688583374023438"
      ]
     },
     "execution_count": 57,
     "metadata": {},
     "output_type": "execute_result"
    }
   ],
   "source": [
    "prediction = regressor.predict(X_test)\n",
    "test_error_rate = regressor.evaluate(X_test, y_test)\n",
    "test_error_rate"
   ]
  },
  {
   "cell_type": "code",
   "execution_count": 52,
   "metadata": {},
   "outputs": [
    {
     "data": {
      "text/plain": [
       "array([1.56250000e-01, 1.67504188e-01, 1.37551582e-01, 1.38888889e-01,\n",
       "       2.99159362e-07])"
      ]
     },
     "execution_count": 52,
     "metadata": {},
     "output_type": "execute_result"
    }
   ],
   "source": [
    "scaler.scale_"
   ]
  },
  {
   "cell_type": "code",
   "execution_count": 53,
   "metadata": {},
   "outputs": [],
   "source": [
    "prediction = prediction/1.56250000e-01\n",
    "y_test = y_test/1.56250000e-01\n"
   ]
  },
  {
   "cell_type": "code",
   "execution_count": 54,
   "metadata": {},
   "outputs": [
    {
     "data": {
      "image/png": "[encoded data removed]",
      "text/plain": [
       "<Figure size 1008x360 with 1 Axes>"
      ]
     },
     "metadata": {
      "needs_background": "light"
     },
     "output_type": "display_data"
    }
   ],
   "source": [
    "# Visualize Results\n",
    "\n",
    "plt.figure(figsize = (14,5))\n",
    "plt.plot(y_test, color = 'red', label = 'Real RNW stock')\n",
    "plt.plot(prediction, color = 'blue', label = 'Predicted RNW stock')\n",
    "plt.title('RNW Stock Price Prediction')\n",
    "plt.xlabel('Time')\n",
    "plt.ylabel('Price')\n",
    "plt.legend()\n",
    "plt.show()"
   ]
  },
  {
   "cell_type": "code",
   "execution_count": null,
   "metadata": {},
   "outputs": [],
   "source": []
  }
 ],
 "metadata": {
  "kernelspec": {
   "display_name": "Python 3",
   "language": "python",
   "name": "python3"
  },
  "language_info": {
   "codemirror_mode": {
    "name": "ipython",
    "version": 3
   },
   "file_extension": ".py",
   "mimetype": "text/x-python",
   "name": "python",
   "nbconvert_exporter": "python",
   "pygments_lexer": "ipython3",
   "version": "3.8.3"
  }
 },
 "nbformat": 4,
 "nbformat_minor": 2
}
